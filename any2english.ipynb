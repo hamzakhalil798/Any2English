{
  "nbformat": 4,
  "nbformat_minor": 0,
  "metadata": {
    "colab": {
      "provenance": [],
      "private_outputs": true,
      "gpuType": "T4"
    },
    "kernelspec": {
      "name": "python3",
      "display_name": "Python 3"
    },
    "accelerator": "GPU"
  },
  "cells": [
    {
      "cell_type": "markdown",
      "source": [
        "#Mounting Drive"
      ],
      "metadata": {
        "id": "AqFfUjBumv0u"
      }
    },
    {
      "cell_type": "code",
      "source": [
        "from google.colab import drive\n",
        "\n",
        "drive.mount('/content/drive')"
      ],
      "metadata": {
        "id": "UpJhhusBurtx"
      },
      "execution_count": null,
      "outputs": []
    },
    {
      "cell_type": "code",
      "source": [
        "cd /content/drive/MyDrive/any2English"
      ],
      "metadata": {
        "id": "j0-mef6pulHq"
      },
      "execution_count": null,
      "outputs": []
    },
    {
      "cell_type": "markdown",
      "source": [
        "#Installing Libraries"
      ],
      "metadata": {
        "id": "LcFOgEzTVWSm"
      }
    },
    {
      "cell_type": "code",
      "source": [
        "%cd tortoise-tts\n",
        "# !python -m pip install -r ./requirements.txt #no need to install\n",
        "!pip install einops==0.4.1\n",
        "!pip install transformers==4.19\n",
        "!python setup.py install\n",
        "%cd ../\n",
        "\n",
        "\n",
        "!pip install -r /content/drive/MyDrive/Wav2Lip/requirements.txt\n",
        "!pip install git+https://github.com/openai/whisper.git\n",
        "!pip install setuptools-rust\n",
        "!pip install ffmpeg-python\n",
        "a = !pip install https://raw.githubusercontent.com/AwaleSajil/ghc/master/ghc-1.0-py3-none-any.whl"
      ],
      "metadata": {
        "id": "W3J7Lh1Z6uR_"
      },
      "execution_count": null,
      "outputs": []
    },
    {
      "cell_type": "markdown",
      "source": [
        "#Donwloading Models"
      ],
      "metadata": {
        "id": "pc4Flm7hV_Yx"
      }
    },
    {
      "cell_type": "code",
      "source": [
        "!wget \"https://www.adrianbulat.com/downloads/python-fan/s3fd-619a316812.pth\" -O \"/content/drive/MyDrive/any2English/Wav2Lip/face_detection/detection/sfd/s3fd.pth\"\n",
        "!wget 'https://iiitaphyd-my.sharepoint.com/personal/radrabha_m_research_iiit_ac_in/_layouts/15/download.aspx?share=EdjI7bZlgApMqsVoEUUXpLsBxqXbn5z8VTmoxp55YNDcIA' -O '/content/drive/MyDrive/any2English/Wav2Lip/checkpoints/wav2lip_gan.pth'"
      ],
      "metadata": {
        "id": "XD47QyCWWSHH"
      },
      "execution_count": null,
      "outputs": []
    },
    {
      "cell_type": "markdown",
      "source": [
        "#First time will take time as models will be downloaded for tortoise"
      ],
      "metadata": {
        "id": "4wKLTfUVYO4S"
      }
    },
    {
      "cell_type": "code",
      "source": [
        "cd /content/drive/MyDrive/any2English"
      ],
      "metadata": {
        "id": "l6mCRF9WZIuL"
      },
      "execution_count": null,
      "outputs": []
    },
    {
      "cell_type": "code",
      "source": [
        "!python main.py --face /content/test.mp4"
      ],
      "metadata": {
        "id": "XAeESU51ZwQa"
      },
      "execution_count": null,
      "outputs": []
    }
  ]
}